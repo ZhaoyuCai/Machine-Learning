{
 "cells": [
  {
   "cell_type": "code",
   "execution_count": 1,
   "metadata": {},
   "outputs": [
    {
     "name": "stderr",
     "output_type": "stream",
     "text": [
      "/home/zhaoyu/anaconda3/lib/python3.6/site-packages/h5py/__init__.py:36: FutureWarning: Conversion of the second argument of issubdtype from `float` to `np.floating` is deprecated. In future, it will be treated as `np.float64 == np.dtype(float).type`.\n",
      "  from ._conv import register_converters as _register_converters\n"
     ]
    }
   ],
   "source": [
    "import tensorflow as tf\n",
    "import pandas as pd\n",
    "import numpy as np\n",
    "import scipy.io as io\n",
    "from matplotlib import pyplot as plt"
   ]
  },
  {
   "cell_type": "code",
   "execution_count": 2,
   "metadata": {},
   "outputs": [],
   "source": [
    "data = pd.read_csv('iris.csv', header = None)"
   ]
  },
  {
   "cell_type": "code",
   "execution_count": 3,
   "metadata": {},
   "outputs": [],
   "source": [
    "num_features = data.shape[1] - 1"
   ]
  },
  {
   "cell_type": "code",
   "execution_count": 4,
   "metadata": {},
   "outputs": [],
   "source": [
    "data_binary = data[:100]"
   ]
  },
  {
   "cell_type": "code",
   "execution_count": null,
   "metadata": {},
   "outputs": [],
   "source": [
    "data_binary[4][:50] = -1\n",
    "data_binary[4][50:] = 1"
   ]
  },
  {
   "cell_type": "code",
   "execution_count": 24,
   "metadata": {},
   "outputs": [],
   "source": [
    "X = data_binary.as_matrix()[:,:-1]\n",
    "Y = data_binary.as_matrix()[:,-1].reshape((-1,1))"
   ]
  },
  {
   "cell_type": "code",
   "execution_count": 7,
   "metadata": {},
   "outputs": [],
   "source": [
    "x = tf.placeholder('float', shape = [None, num_features])\n",
    "y = tf.placeholder('float', shape = [None, 1])"
   ]
  },
  {
   "cell_type": "code",
   "execution_count": 8,
   "metadata": {},
   "outputs": [],
   "source": [
    "w = tf.get_variable('w', shape = [num_features, 1], initializer=tf.contrib.layers.xavier_initializer())\n",
    "b = tf.Variable(tf.zeros(1))"
   ]
  },
  {
   "cell_type": "code",
   "execution_count": 9,
   "metadata": {},
   "outputs": [],
   "source": [
    "BATCH_SIZE = 100\n",
    "LAMBDA = 1\n",
    "\n",
    "z = tf.matmul(x, w) + b\n",
    "l2_loss = tf.nn.l2_loss(w)\n",
    "hinge_loss = tf.reduce_sum(tf.maximum(tf.zeros(BATCH_SIZE, 1), 1 - y * z))\n",
    "loss = l2_loss + LAMBDA * hinge_loss"
   ]
  },
  {
   "cell_type": "code",
   "execution_count": 31,
   "metadata": {},
   "outputs": [
    {
     "data": {
      "text/plain": [
       "[26862.232,\n",
       " 35649.79,\n",
       " 79046.61,\n",
       " 52651.156,\n",
       " 36370.69,\n",
       " 69651.69,\n",
       " 247.05487,\n",
       " 7.038108,\n",
       " 7.0367002,\n",
       " 7.035293,\n",
       " 7.033886,\n",
       " 7.0324793,\n",
       " 7.0310726,\n",
       " 7.029667,\n",
       " 7.02826,\n",
       " 7.0268545,\n",
       " 7.0254493,\n",
       " 7.024044,\n",
       " 7.0226393,\n",
       " 7.0212355,\n",
       " 7.019831,\n",
       " 7.0184274,\n",
       " 7.0170236,\n",
       " 7.0156198,\n",
       " 7.0142174,\n",
       " 7.0128145,\n",
       " 7.011412,\n",
       " 7.0100102,\n",
       " 7.0086083,\n",
       " 7.0072064,\n",
       " 7.005805,\n",
       " 7.004403,\n",
       " 7.003003,\n",
       " 7.001603,\n",
       " 7.000203,\n",
       " 6.998803,\n",
       " 6.997403,\n",
       " 6.996003,\n",
       " 6.994604,\n",
       " 6.993205,\n",
       " 6.991806,\n",
       " 6.9904084,\n",
       " 6.9890103,\n",
       " 6.9876127,\n",
       " 6.9862156,\n",
       " 6.9848185,\n",
       " 6.9834213,\n",
       " 6.982024,\n",
       " 6.9806275,\n",
       " 6.979232]"
      ]
     },
     "execution_count": 31,
     "metadata": {},
     "output_type": "execute_result"
    }
   ],
   "source": [
    "init = tf.global_variables_initializer()\n",
    "optimizer = tf.train.GradientDescentOptimizer(learning_rate=0.0001).minimize(loss)\n",
    "\n",
    "loss_s = []\n",
    "\n",
    "with tf.Session() as sess:\n",
    "    sess.run(init)\n",
    "    for epoch in range(50):\n",
    "        _, loss_val = sess.run([optimizer, loss], feed_dict = {x: X, y: Y})\n",
    "        loss_s.append(loss_val)\n",
    "loss_s"
   ]
  },
  {
   "cell_type": "code",
   "execution_count": null,
   "metadata": {},
   "outputs": [],
   "source": []
  }
 ],
 "metadata": {
  "kernelspec": {
   "display_name": "Python 3",
   "language": "python",
   "name": "python3"
  },
  "language_info": {
   "codemirror_mode": {
    "name": "ipython",
    "version": 3
   },
   "file_extension": ".py",
   "mimetype": "text/x-python",
   "name": "python",
   "nbconvert_exporter": "python",
   "pygments_lexer": "ipython3",
   "version": "3.6.4"
  }
 },
 "nbformat": 4,
 "nbformat_minor": 2
}
