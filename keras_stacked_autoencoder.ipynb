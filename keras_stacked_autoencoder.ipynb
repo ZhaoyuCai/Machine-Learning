{
 "cells": [
  {
   "cell_type": "code",
   "execution_count": 1,
   "metadata": {},
   "outputs": [
    {
     "name": "stderr",
     "output_type": "stream",
     "text": [
      "Using TensorFlow backend.\n"
     ]
    }
   ],
   "source": [
    "import numpy as np\n",
    "import matplotlib.pyplot as plt\n",
    "from keras.layers import Input, Dense\n",
    "from keras.models import Model\n",
    "from keras.datasets import mnist"
   ]
  },
  {
   "cell_type": "code",
   "execution_count": 58,
   "metadata": {},
   "outputs": [
    {
     "name": "stdout",
     "output_type": "stream",
     "text": [
      "(60000, 784)\n",
      "(10000, 784)\n"
     ]
    }
   ],
   "source": [
    "(X_train, _),(X_test, _) = mnist.load_data()\n",
    "X_train = X_train.astype('float32')/255.\n",
    "X_test = X_test.astype('float32')/255.\n",
    "X_train = X_train.reshape((len(X_train), np.prod(X_train.shape[1:])))\n",
    "X_test = X_test.reshape((len(X_test), np.prod(X_test.shape[1:])))\n",
    "print(X_train.shape)\n",
    "print(X_test.shape)"
   ]
  },
  {
   "cell_type": "code",
   "execution_count": 3,
   "metadata": {},
   "outputs": [],
   "source": [
    "# this is the size of our encoded representations\n",
    "encoding_dim = 32  # 32 floats -> compression of factor 24.5, assuming the input is 784 floats\n",
    "\n",
    "# this is our input placeholder\n",
    "input_img = Input(shape=(784,))\n",
    "# \"encoded\" is the encoded representation of the input\n",
    "encoded = Dense(encoding_dim, activation='relu')(input_img)\n",
    "# \"decoded\" is the lossy reconstruction of the input\n",
    "decoded = Dense(784, activation='sigmoid')(encoded)\n",
    "\n",
    "# this model maps an input to its reconstruction\n",
    "autoencoder = Model(input_img, decoded)"
   ]
  },
  {
   "cell_type": "code",
   "execution_count": 4,
   "metadata": {},
   "outputs": [],
   "source": [
    "# this model maps an input to its encoded representation\n",
    "encoder = Model(input_img, encoded)"
   ]
  },
  {
   "cell_type": "code",
   "execution_count": 5,
   "metadata": {},
   "outputs": [],
   "source": [
    "# create a placeholder for an encoded (32-dimensional) input\n",
    "encoded_input = Input(shape=(encoding_dim,))\n",
    "# retrieve the last layer of the autoencoder model\n",
    "decoder_layer = autoencoder.layers[-1]\n",
    "# create the decoder model\n",
    "decoder = Model(encoded_input, decoder_layer(encoded_input))"
   ]
  },
  {
   "cell_type": "code",
   "execution_count": 8,
   "metadata": {},
   "outputs": [],
   "source": [
    "autoencoder.compile(optimizer='adam', loss='binary_crossentropy')"
   ]
  },
  {
   "cell_type": "code",
   "execution_count": 9,
   "metadata": {},
   "outputs": [
    {
     "name": "stdout",
     "output_type": "stream",
     "text": [
      "Train on 60000 samples, validate on 10000 samples\n",
      "Epoch 1/50\n",
      "60000/60000 [==============================] - 85s 1ms/step - loss: 0.2782 - val_loss: 0.1919\n",
      "Epoch 2/50\n",
      "60000/60000 [==============================] - 1s 21us/step - loss: 0.1722 - val_loss: 0.1544\n",
      "Epoch 3/50\n",
      "60000/60000 [==============================] - 1s 23us/step - loss: 0.1451 - val_loss: 0.1344\n",
      "Epoch 4/50\n",
      "60000/60000 [==============================] - 1s 22us/step - loss: 0.1287 - val_loss: 0.1211\n",
      "Epoch 5/50\n",
      "60000/60000 [==============================] - 1s 20us/step - loss: 0.1179 - val_loss: 0.1124\n",
      "Epoch 6/50\n",
      "60000/60000 [==============================] - 1s 21us/step - loss: 0.1107 - val_loss: 0.1066\n",
      "Epoch 7/50\n",
      "60000/60000 [==============================] - 1s 21us/step - loss: 0.1056 - val_loss: 0.1024\n",
      "Epoch 8/50\n",
      "60000/60000 [==============================] - 1s 21us/step - loss: 0.1020 - val_loss: 0.0992\n",
      "Epoch 9/50\n",
      "60000/60000 [==============================] - 1s 23us/step - loss: 0.0992 - val_loss: 0.0969\n",
      "Epoch 10/50\n",
      "60000/60000 [==============================] - 1s 21us/step - loss: 0.0973 - val_loss: 0.0952\n",
      "Epoch 11/50\n",
      "60000/60000 [==============================] - 1s 22us/step - loss: 0.0960 - val_loss: 0.0943\n",
      "Epoch 12/50\n",
      "60000/60000 [==============================] - 1s 20us/step - loss: 0.0952 - val_loss: 0.0936\n",
      "Epoch 13/50\n",
      "60000/60000 [==============================] - 1s 22us/step - loss: 0.0947 - val_loss: 0.0932\n",
      "Epoch 14/50\n",
      "60000/60000 [==============================] - 1s 20us/step - loss: 0.0943 - val_loss: 0.0929\n",
      "Epoch 15/50\n",
      "60000/60000 [==============================] - 1s 20us/step - loss: 0.0941 - val_loss: 0.0926\n",
      "Epoch 16/50\n",
      "60000/60000 [==============================] - 1s 20us/step - loss: 0.0939 - val_loss: 0.0926\n",
      "Epoch 17/50\n",
      "60000/60000 [==============================] - 1s 22us/step - loss: 0.0937 - val_loss: 0.0924\n",
      "Epoch 18/50\n",
      "60000/60000 [==============================] - 1s 21us/step - loss: 0.0936 - val_loss: 0.0924\n",
      "Epoch 19/50\n",
      "60000/60000 [==============================] - 1s 21us/step - loss: 0.0935 - val_loss: 0.0922\n",
      "Epoch 20/50\n",
      "60000/60000 [==============================] - 1s 20us/step - loss: 0.0934 - val_loss: 0.0922\n",
      "Epoch 21/50\n",
      "60000/60000 [==============================] - 1s 21us/step - loss: 0.0933 - val_loss: 0.0921\n",
      "Epoch 22/50\n",
      "60000/60000 [==============================] - 1s 20us/step - loss: 0.0933 - val_loss: 0.0921\n",
      "Epoch 23/50\n",
      "60000/60000 [==============================] - 1s 20us/step - loss: 0.0932 - val_loss: 0.0920\n",
      "Epoch 24/50\n",
      "60000/60000 [==============================] - 1s 22us/step - loss: 0.0931 - val_loss: 0.0919\n",
      "Epoch 25/50\n",
      "60000/60000 [==============================] - 1s 20us/step - loss: 0.0931 - val_loss: 0.0919\n",
      "Epoch 26/50\n",
      "60000/60000 [==============================] - 1s 20us/step - loss: 0.0931 - val_loss: 0.0918\n",
      "Epoch 27/50\n",
      "60000/60000 [==============================] - 1s 21us/step - loss: 0.0930 - val_loss: 0.0919\n",
      "Epoch 28/50\n",
      "60000/60000 [==============================] - 1s 21us/step - loss: 0.0930 - val_loss: 0.0918\n",
      "Epoch 29/50\n",
      "60000/60000 [==============================] - 1s 22us/step - loss: 0.0930 - val_loss: 0.0919\n",
      "Epoch 30/50\n",
      "60000/60000 [==============================] - 1s 21us/step - loss: 0.0929 - val_loss: 0.0918\n",
      "Epoch 31/50\n",
      "60000/60000 [==============================] - 1s 21us/step - loss: 0.0929 - val_loss: 0.0918\n",
      "Epoch 32/50\n",
      "60000/60000 [==============================] - 1s 22us/step - loss: 0.0929 - val_loss: 0.0917\n",
      "Epoch 33/50\n",
      "60000/60000 [==============================] - 1s 20us/step - loss: 0.0929 - val_loss: 0.0918\n",
      "Epoch 34/50\n",
      "60000/60000 [==============================] - 1s 21us/step - loss: 0.0928 - val_loss: 0.0917\n",
      "Epoch 35/50\n",
      "60000/60000 [==============================] - 1s 21us/step - loss: 0.0928 - val_loss: 0.0917\n",
      "Epoch 36/50\n",
      "60000/60000 [==============================] - 1s 22us/step - loss: 0.0928 - val_loss: 0.0916\n",
      "Epoch 37/50\n",
      "60000/60000 [==============================] - 1s 19us/step - loss: 0.0928 - val_loss: 0.0917\n",
      "Epoch 38/50\n",
      "60000/60000 [==============================] - 1s 21us/step - loss: 0.0928 - val_loss: 0.0916\n",
      "Epoch 39/50\n",
      "60000/60000 [==============================] - 1s 22us/step - loss: 0.0928 - val_loss: 0.0916\n",
      "Epoch 40/50\n",
      "60000/60000 [==============================] - 1s 21us/step - loss: 0.0927 - val_loss: 0.0916\n",
      "Epoch 41/50\n",
      "60000/60000 [==============================] - 1s 21us/step - loss: 0.0927 - val_loss: 0.0916\n",
      "Epoch 42/50\n",
      "60000/60000 [==============================] - 1s 20us/step - loss: 0.0927 - val_loss: 0.0916\n",
      "Epoch 43/50\n",
      "60000/60000 [==============================] - 1s 20us/step - loss: 0.0927 - val_loss: 0.0915\n",
      "Epoch 44/50\n",
      "60000/60000 [==============================] - 1s 19us/step - loss: 0.0927 - val_loss: 0.0916\n",
      "Epoch 45/50\n",
      "60000/60000 [==============================] - 1s 22us/step - loss: 0.0927 - val_loss: 0.0916\n",
      "Epoch 46/50\n",
      "60000/60000 [==============================] - 1s 21us/step - loss: 0.0927 - val_loss: 0.0916\n",
      "Epoch 47/50\n",
      "60000/60000 [==============================] - 1s 21us/step - loss: 0.0927 - val_loss: 0.0915\n",
      "Epoch 48/50\n",
      "60000/60000 [==============================] - 1s 22us/step - loss: 0.0926 - val_loss: 0.0915\n",
      "Epoch 49/50\n",
      "60000/60000 [==============================] - 1s 20us/step - loss: 0.0926 - val_loss: 0.0915\n",
      "Epoch 50/50\n",
      "60000/60000 [==============================] - 1s 22us/step - loss: 0.0926 - val_loss: 0.0915\n"
     ]
    },
    {
     "data": {
      "text/plain": [
       "<keras.callbacks.History at 0x17a92f1d710>"
      ]
     },
     "execution_count": 9,
     "metadata": {},
     "output_type": "execute_result"
    }
   ],
   "source": [
    "autoencoder.fit(X_train, X_train,\n",
    "                epochs=50,\n",
    "                batch_size=256,\n",
    "                shuffle=True,\n",
    "                validation_data=(X_test, X_test))"
   ]
  },
  {
   "cell_type": "code",
   "execution_count": 10,
   "metadata": {},
   "outputs": [],
   "source": [
    "# encode and decode some digits\n",
    "# note that we take them from the *test* set\n",
    "encoded_imgs = encoder.predict(X_test)\n",
    "decoded_imgs = decoder.predict(encoded_imgs)"
   ]
  },
  {
   "cell_type": "code",
   "execution_count": 2,
   "metadata": {},
   "outputs": [],
   "source": [
    "#Deep Autoencoder\n",
    "# layers = [784, 512, 256, 128, 64, 32]\n",
    "def make_deep_encoder(layers):\n",
    "    input_img = Input(shape=(layers[0],))\n",
    "    encoded = input_img\n",
    "    \n",
    "    for layer in layers[1:]:\n",
    "        encoded = Dense(layer, activation='relu')(encoded)\n",
    "    \n",
    "    decoded = encoded\n",
    "    for layer in layers[::-1][1:-1]:\n",
    "        decoded = Dense(layer, activation='relu')(decoded)\n",
    "    decoded = Dense(layers[0], activation='sigmoid')(decoded)\n",
    "\n",
    "    return Model(input_img, decoded)"
   ]
  },
  {
   "cell_type": "code",
   "execution_count": 3,
   "metadata": {},
   "outputs": [],
   "source": [
    "layers = [784, 512, 256, 128, 64, 32]\n",
    "deep_autoencoder = make_deep_encoder(layers)\n",
    "deep_autoencoder.compile(optimizer='adam', loss='binary_crossentropy')"
   ]
  },
  {
   "cell_type": "code",
   "execution_count": 27,
   "metadata": {},
   "outputs": [
    {
     "name": "stdout",
     "output_type": "stream",
     "text": [
      "Train on 60000 samples, validate on 10000 samples\n",
      "Epoch 1/50\n",
      "60000/60000 [==============================] - 3s 49us/step - loss: 0.2331 - val_loss: 0.1676\n",
      "Epoch 2/50\n",
      "60000/60000 [==============================] - 2s 35us/step - loss: 0.1492 - val_loss: 0.1364\n",
      "Epoch 3/50\n",
      "60000/60000 [==============================] - 2s 34us/step - loss: 0.1323 - val_loss: 0.1262\n",
      "Epoch 4/50\n",
      "60000/60000 [==============================] - 2s 37us/step - loss: 0.1233 - val_loss: 0.1197\n",
      "Epoch 5/50\n",
      "60000/60000 [==============================] - 2s 35us/step - loss: 0.1176 - val_loss: 0.1142\n",
      "Epoch 6/50\n",
      "60000/60000 [==============================] - 2s 35us/step - loss: 0.1133 - val_loss: 0.1112\n",
      "Epoch 7/50\n",
      "60000/60000 [==============================] - 2s 36us/step - loss: 0.1095 - val_loss: 0.1080\n",
      "Epoch 8/50\n",
      "60000/60000 [==============================] - 2s 35us/step - loss: 0.1064 - val_loss: 0.1056\n",
      "Epoch 9/50\n",
      "60000/60000 [==============================] - 2s 35us/step - loss: 0.1037 - val_loss: 0.1029\n",
      "Epoch 10/50\n",
      "60000/60000 [==============================] - 2s 36us/step - loss: 0.1016 - val_loss: 0.1003\n",
      "Epoch 11/50\n",
      "60000/60000 [==============================] - 2s 34us/step - loss: 0.0997 - val_loss: 0.0989\n",
      "Epoch 12/50\n",
      "60000/60000 [==============================] - 2s 35us/step - loss: 0.0982 - val_loss: 0.0978\n",
      "Epoch 13/50\n",
      "60000/60000 [==============================] - 2s 36us/step - loss: 0.0968 - val_loss: 0.0974\n",
      "Epoch 14/50\n",
      "60000/60000 [==============================] - 2s 37us/step - loss: 0.0958 - val_loss: 0.0960\n",
      "Epoch 15/50\n",
      "60000/60000 [==============================] - 2s 37us/step - loss: 0.0948 - val_loss: 0.0953\n",
      "Epoch 16/50\n",
      "60000/60000 [==============================] - 2s 35us/step - loss: 0.0939 - val_loss: 0.0941\n",
      "Epoch 17/50\n",
      "60000/60000 [==============================] - 2s 35us/step - loss: 0.0931 - val_loss: 0.0942\n",
      "Epoch 18/50\n",
      "60000/60000 [==============================] - 2s 36us/step - loss: 0.0922 - val_loss: 0.0928\n",
      "Epoch 19/50\n",
      "60000/60000 [==============================] - 2s 35us/step - loss: 0.0914 - val_loss: 0.0927\n",
      "Epoch 20/50\n",
      "60000/60000 [==============================] - 2s 35us/step - loss: 0.0908 - val_loss: 0.0916\n",
      "Epoch 21/50\n",
      "60000/60000 [==============================] - 2s 36us/step - loss: 0.0902 - val_loss: 0.0912\n",
      "Epoch 22/50\n",
      "60000/60000 [==============================] - 2s 35us/step - loss: 0.0896 - val_loss: 0.0903\n",
      "Epoch 23/50\n",
      "60000/60000 [==============================] - 2s 37us/step - loss: 0.0889 - val_loss: 0.0909\n",
      "Epoch 24/50\n",
      "60000/60000 [==============================] - 2s 37us/step - loss: 0.0885 - val_loss: 0.0898\n",
      "Epoch 25/50\n",
      "60000/60000 [==============================] - 2s 35us/step - loss: 0.0880 - val_loss: 0.0896\n",
      "Epoch 26/50\n",
      "60000/60000 [==============================] - 2s 37us/step - loss: 0.0875 - val_loss: 0.0897\n",
      "Epoch 27/50\n",
      "60000/60000 [==============================] - 2s 35us/step - loss: 0.0870 - val_loss: 0.0885\n",
      "Epoch 28/50\n",
      "60000/60000 [==============================] - 2s 35us/step - loss: 0.0865 - val_loss: 0.0879\n",
      "Epoch 29/50\n",
      "60000/60000 [==============================] - 2s 35us/step - loss: 0.0861 - val_loss: 0.0874\n",
      "Epoch 30/50\n",
      "60000/60000 [==============================] - 2s 36us/step - loss: 0.0857 - val_loss: 0.0871\n",
      "Epoch 31/50\n",
      "60000/60000 [==============================] - 2s 35us/step - loss: 0.0853 - val_loss: 0.0864\n",
      "Epoch 32/50\n",
      "60000/60000 [==============================] - 2s 36us/step - loss: 0.0849 - val_loss: 0.0866\n",
      "Epoch 33/50\n",
      "60000/60000 [==============================] - 2s 36us/step - loss: 0.0846 - val_loss: 0.0862\n",
      "Epoch 34/50\n",
      "60000/60000 [==============================] - 2s 36us/step - loss: 0.0842 - val_loss: 0.0857\n",
      "Epoch 35/50\n",
      "60000/60000 [==============================] - 2s 36us/step - loss: 0.0841 - val_loss: 0.0858\n",
      "Epoch 36/50\n",
      "60000/60000 [==============================] - 2s 36us/step - loss: 0.0836 - val_loss: 0.0854\n",
      "Epoch 37/50\n",
      "60000/60000 [==============================] - 2s 35us/step - loss: 0.0834 - val_loss: 0.0859\n",
      "Epoch 38/50\n",
      "60000/60000 [==============================] - 2s 35us/step - loss: 0.0831 - val_loss: 0.0850\n",
      "Epoch 39/50\n",
      "60000/60000 [==============================] - 2s 34us/step - loss: 0.0828 - val_loss: 0.0845\n",
      "Epoch 40/50\n",
      "60000/60000 [==============================] - 2s 34us/step - loss: 0.0826 - val_loss: 0.0842\n",
      "Epoch 41/50\n",
      "60000/60000 [==============================] - 2s 34us/step - loss: 0.0825 - val_loss: 0.0846\n",
      "Epoch 42/50\n",
      "60000/60000 [==============================] - 2s 36us/step - loss: 0.0822 - val_loss: 0.0839\n",
      "Epoch 43/50\n",
      "60000/60000 [==============================] - 2s 35us/step - loss: 0.0821 - val_loss: 0.0841\n",
      "Epoch 44/50\n",
      "60000/60000 [==============================] - 2s 36us/step - loss: 0.0819 - val_loss: 0.0841\n",
      "Epoch 45/50\n",
      "60000/60000 [==============================] - 2s 37us/step - loss: 0.0816 - val_loss: 0.0840\n",
      "Epoch 46/50\n",
      "60000/60000 [==============================] - 2s 36us/step - loss: 0.0815 - val_loss: 0.0836\n",
      "Epoch 47/50\n",
      "60000/60000 [==============================] - 2s 35us/step - loss: 0.0814 - val_loss: 0.0836\n",
      "Epoch 48/50\n",
      "60000/60000 [==============================] - 2s 35us/step - loss: 0.0812 - val_loss: 0.0836\n",
      "Epoch 49/50\n",
      "60000/60000 [==============================] - 2s 36us/step - loss: 0.0810 - val_loss: 0.0834\n",
      "Epoch 50/50\n",
      "60000/60000 [==============================] - 2s 35us/step - loss: 0.0809 - val_loss: 0.0830\n"
     ]
    },
    {
     "data": {
      "text/plain": [
       "<keras.callbacks.History at 0x17afa3cb940>"
      ]
     },
     "execution_count": 27,
     "metadata": {},
     "output_type": "execute_result"
    }
   ],
   "source": [
    "deep_autoencoder.fit(X_train, X_train,\n",
    "                epochs=50,\n",
    "                batch_size=256,\n",
    "                shuffle=True,\n",
    "                validation_data=(X_test, X_test))"
   ]
  },
  {
   "cell_type": "code",
   "execution_count": 37,
   "metadata": {},
   "outputs": [],
   "source": [
    "def plot_encode_pair(ae, n=20):\n",
    "    decoded_imgs = ae.predict(X_test)\n",
    "    plt.figure(figsize=(50, 10))\n",
    "    for i in range(n):\n",
    "        # display original\n",
    "        ax = plt.subplot(2, n, i + 1)\n",
    "        plt.imshow(X_test[i].reshape(28, 28))\n",
    "        plt.gray()\n",
    "        ax.get_xaxis().set_visible(False)\n",
    "        ax.get_yaxis().set_visible(False)\n",
    "\n",
    "        # display reconstruction\n",
    "        ax = plt.subplot(2, n, i + 1 + n)\n",
    "        plt.imshow(decoded_imgs[i].reshape(28, 28))\n",
    "        plt.gray()\n",
    "        ax.get_xaxis().set_visible(False)\n",
    "        ax.get_yaxis().set_visible(False)\n",
    "    plt.show()"
   ]
  },
  {
   "cell_type": "code",
   "execution_count": 38,
   "metadata": {},
   "outputs": [
    {
     "data": {
      "image/png": "[encoded data removed]",
      "text/plain": [
       "<matplotlib.figure.Figure at 0x17b6005e240>"
      ]
     },
     "metadata": {},
     "output_type": "display_data"
    }
   ],
   "source": [
    "plot_encode_pair(deep_autoencoder, n=20)"
   ]
  },
  {
   "cell_type": "code",
   "execution_count": 39,
   "metadata": {},
   "outputs": [
    {
     "data": {
      "image/png": "[encoded data removed]",
      "text/plain": [
       "<matplotlib.figure.Figure at 0x17b5bb7f3c8>"
      ]
     },
     "metadata": {},
     "output_type": "display_data"
    }
   ],
   "source": [
    "plot_encode_pair(autoencoder, n=20)"
   ]
  },
  {
   "cell_type": "code",
   "execution_count": 41,
   "metadata": {},
   "outputs": [],
   "source": [
    "def get_encoder(autoencoder):\n",
    "    layers = autoencoder.layers\n",
    "    \n",
    "                                        \n",
    "    return encoder"
   ]
  },
  {
   "cell_type": "code",
   "execution_count": 8,
   "metadata": {},
   "outputs": [
    {
     "name": "stdout",
     "output_type": "stream",
     "text": [
      "_________________________________________________________________\n",
      "Layer (type)                 Output Shape              Param #   \n",
      "=================================================================\n",
      "input_1 (InputLayer)         (None, 784)               0         \n",
      "_________________________________________________________________\n",
      "dense_1 (Dense)              (None, 512)               401920    \n",
      "_________________________________________________________________\n",
      "dense_2 (Dense)              (None, 256)               131328    \n",
      "_________________________________________________________________\n",
      "dense_3 (Dense)              (None, 128)               32896     \n",
      "_________________________________________________________________\n",
      "dense_4 (Dense)              (None, 64)                8256      \n",
      "_________________________________________________________________\n",
      "dense_5 (Dense)              (None, 32)                2080      \n",
      "_________________________________________________________________\n",
      "dense_6 (Dense)              (None, 64)                2112      \n",
      "_________________________________________________________________\n",
      "dense_7 (Dense)              (None, 128)               8320      \n",
      "_________________________________________________________________\n",
      "dense_8 (Dense)              (None, 256)               33024     \n",
      "_________________________________________________________________\n",
      "dense_9 (Dense)              (None, 512)               131584    \n",
      "_________________________________________________________________\n",
      "dense_10 (Dense)             (None, 784)               402192    \n",
      "=================================================================\n",
      "Total params: 1,153,712\n",
      "Trainable params: 1,153,712\n",
      "Non-trainable params: 0\n",
      "_________________________________________________________________\n"
     ]
    }
   ],
   "source": [
    "deep_autoencoder.summary()"
   ]
  },
  {
   "cell_type": "code",
   "execution_count": 54,
   "metadata": {},
   "outputs": [],
   "source": [
    "class Autoencoder(object):\n",
    "    def __init__(self, layers):\n",
    "        self.layers = layers\n",
    "        self.model = None\n",
    "        self.encoder = None\n",
    "        self.decoder = None\n",
    "        \n",
    "    def get_model(self):\n",
    "        if self.model is None:\n",
    "            input_img = Input(shape=(self.layers[0],))\n",
    "            encoded = input_img\n",
    "\n",
    "            for layer in self.layers[1:]:\n",
    "                encoded = Dense(layer, activation='relu')(encoded)\n",
    "\n",
    "            decoded = encoded\n",
    "            for layer in self.layers[::-1][1:-1]:\n",
    "                decoded = Dense(layer, activation='relu')(decoded)\n",
    "            decoded = Dense(self.layers[0], activation='sigmoid')(decoded)\n",
    "\n",
    "            self.model = Model(input_img, decoded)\n",
    "            \n",
    "        return self.model\n",
    "    \n",
    "    def get_encoder(self):\n",
    "        if self.encoder is None:\n",
    "            try:\n",
    "                ae_layers = self.model.layers\n",
    "            except AttributeError:\n",
    "                print(\"Oops! 'NoneType' object has no attribute 'layers'. Get the autoencoder model first!\")\n",
    "                return\n",
    "            input_img = Input(shape=(self.layers[0],))\n",
    "            encoded = input_img\n",
    "            \n",
    "\n",
    "            for i in range(1,len(self.layers)):\n",
    "                encoded = ae_layers[i](encoded)\n",
    "\n",
    "            self.encoder = Model(input_img, encoded)\n",
    "            \n",
    "        return self.encoder\n",
    "    \n",
    "    def get_decoder(self):\n",
    "        if self.decoder is None:\n",
    "            try:\n",
    "                ae_layers = self.model.layers\n",
    "            except AttributeError:\n",
    "                print(\"Oops! 'NoneType' object has no attribute 'layers'. Get the autoencoder model first!\")\n",
    "                return\n",
    "            \n",
    "            encoded_input = Input(shape=(self.layers[-1],))\n",
    "            \n",
    "            decoded = encoded_input\n",
    "            \n",
    "            for i in range(1-len(self.layers),0):\n",
    "                decoded = ae_layers[i](decoded)\n",
    "            \n",
    "            self.decoder = Model(encoded_input, decoded)\n",
    "            \n",
    "        return self.decoder"
   ]
  },
  {
   "cell_type": "code",
   "execution_count": 55,
   "metadata": {},
   "outputs": [],
   "source": [
    "layers = [784, 512, 256, 128, 100, 50, 32]\n",
    "deep_autoencoder = Autoencoder(layers)"
   ]
  },
  {
   "cell_type": "code",
   "execution_count": 57,
   "metadata": {},
   "outputs": [],
   "source": [
    "deep_autoencoder.get_model().compile(optimizer='adam', loss='binary_crossentropy')"
   ]
  },
  {
   "cell_type": "code",
   "execution_count": 59,
   "metadata": {},
   "outputs": [
    {
     "name": "stdout",
     "output_type": "stream",
     "text": [
      "Train on 60000 samples, validate on 10000 samples\n",
      "Epoch 1/50\n",
      "60000/60000 [==============================] - 12s 194us/step - loss: 0.2581 - val_loss: 0.2117\n",
      "Epoch 2/50\n",
      "60000/60000 [==============================] - 2s 36us/step - loss: 0.1746 - val_loss: 0.1547\n",
      "Epoch 3/50\n",
      "60000/60000 [==============================] - 2s 36us/step - loss: 0.1483 - val_loss: 0.1426\n",
      "Epoch 4/50\n",
      "60000/60000 [==============================] - 2s 34us/step - loss: 0.1382 - val_loss: 0.1335\n",
      "Epoch 5/50\n",
      "60000/60000 [==============================] - 2s 35us/step - loss: 0.1311 - val_loss: 0.1290\n",
      "Epoch 6/50\n",
      "60000/60000 [==============================] - 2s 36us/step - loss: 0.1264 - val_loss: 0.1241\n",
      "Epoch 7/50\n",
      "60000/60000 [==============================] - 2s 35us/step - loss: 0.1222 - val_loss: 0.1201\n",
      "Epoch 8/50\n",
      "60000/60000 [==============================] - 2s 36us/step - loss: 0.1194 - val_loss: 0.1180\n",
      "Epoch 9/50\n",
      "60000/60000 [==============================] - 2s 35us/step - loss: 0.1174 - val_loss: 0.1185\n",
      "Epoch 10/50\n",
      "60000/60000 [==============================] - 2s 37us/step - loss: 0.1150 - val_loss: 0.1147\n",
      "Epoch 11/50\n",
      "60000/60000 [==============================] - 2s 36us/step - loss: 0.1127 - val_loss: 0.1119\n",
      "Epoch 12/50\n",
      "60000/60000 [==============================] - 2s 34us/step - loss: 0.1111 - val_loss: 0.1105\n",
      "Epoch 13/50\n",
      "60000/60000 [==============================] - 2s 36us/step - loss: 0.1097 - val_loss: 0.1097\n",
      "Epoch 14/50\n",
      "60000/60000 [==============================] - 2s 35us/step - loss: 0.1085 - val_loss: 0.1086\n",
      "Epoch 15/50\n",
      "60000/60000 [==============================] - 2s 35us/step - loss: 0.1072 - val_loss: 0.1076\n",
      "Epoch 16/50\n",
      "60000/60000 [==============================] - 2s 34us/step - loss: 0.1060 - val_loss: 0.1067\n",
      "Epoch 17/50\n",
      "60000/60000 [==============================] - 2s 35us/step - loss: 0.1050 - val_loss: 0.1083\n",
      "Epoch 18/50\n",
      "60000/60000 [==============================] - 2s 34us/step - loss: 0.1039 - val_loss: 0.1047\n",
      "Epoch 19/50\n",
      "60000/60000 [==============================] - 2s 33us/step - loss: 0.1030 - val_loss: 0.1035\n",
      "Epoch 20/50\n",
      "60000/60000 [==============================] - 2s 36us/step - loss: 0.1019 - val_loss: 0.1025\n",
      "Epoch 21/50\n",
      "60000/60000 [==============================] - 2s 39us/step - loss: 0.1008 - val_loss: 0.1021\n",
      "Epoch 22/50\n",
      "60000/60000 [==============================] - 2s 37us/step - loss: 0.0998 - val_loss: 0.1011\n",
      "Epoch 23/50\n",
      "60000/60000 [==============================] - 2s 40us/step - loss: 0.0990 - val_loss: 0.1006\n",
      "Epoch 24/50\n",
      "60000/60000 [==============================] - 2s 42us/step - loss: 0.0979 - val_loss: 0.0995\n",
      "Epoch 25/50\n",
      "60000/60000 [==============================] - 2s 39us/step - loss: 0.0972 - val_loss: 0.0982\n",
      "Epoch 26/50\n",
      "60000/60000 [==============================] - 2s 37us/step - loss: 0.0963 - val_loss: 0.0973\n",
      "Epoch 27/50\n",
      "60000/60000 [==============================] - 2s 39us/step - loss: 0.0958 - val_loss: 0.0986\n",
      "Epoch 28/50\n",
      "60000/60000 [==============================] - 2s 37us/step - loss: 0.0953 - val_loss: 0.0983\n",
      "Epoch 29/50\n",
      "60000/60000 [==============================] - 2s 37us/step - loss: 0.0948 - val_loss: 0.0962\n",
      "Epoch 30/50\n",
      "60000/60000 [==============================] - 2s 38us/step - loss: 0.0942 - val_loss: 0.0958\n",
      "Epoch 31/50\n",
      "60000/60000 [==============================] - 2s 36us/step - loss: 0.0937 - val_loss: 0.0963\n",
      "Epoch 32/50\n",
      "60000/60000 [==============================] - 2s 34us/step - loss: 0.0934 - val_loss: 0.0959\n",
      "Epoch 33/50\n",
      "60000/60000 [==============================] - 2s 36us/step - loss: 0.0927 - val_loss: 0.0951\n",
      "Epoch 34/50\n",
      "60000/60000 [==============================] - 2s 36us/step - loss: 0.0922 - val_loss: 0.0941\n",
      "Epoch 35/50\n",
      "60000/60000 [==============================] - 2s 36us/step - loss: 0.0918 - val_loss: 0.0957\n",
      "Epoch 36/50\n",
      "60000/60000 [==============================] - 2s 37us/step - loss: 0.0913 - val_loss: 0.0937\n",
      "Epoch 37/50\n",
      "60000/60000 [==============================] - 2s 34us/step - loss: 0.0910 - val_loss: 0.0934\n",
      "Epoch 38/50\n",
      "60000/60000 [==============================] - 2s 35us/step - loss: 0.0905 - val_loss: 0.0927\n",
      "Epoch 39/50\n",
      "60000/60000 [==============================] - 2s 36us/step - loss: 0.0902 - val_loss: 0.0927\n",
      "Epoch 40/50\n",
      "60000/60000 [==============================] - 2s 37us/step - loss: 0.0900 - val_loss: 0.0930\n",
      "Epoch 41/50\n",
      "60000/60000 [==============================] - 2s 35us/step - loss: 0.0895 - val_loss: 0.0919\n",
      "Epoch 42/50\n",
      "60000/60000 [==============================] - 2s 36us/step - loss: 0.0892 - val_loss: 0.0925\n",
      "Epoch 43/50\n",
      "60000/60000 [==============================] - 2s 34us/step - loss: 0.0888 - val_loss: 0.0922\n",
      "Epoch 44/50\n",
      "60000/60000 [==============================] - 2s 35us/step - loss: 0.0884 - val_loss: 0.0916\n",
      "Epoch 45/50\n",
      "60000/60000 [==============================] - 2s 35us/step - loss: 0.0883 - val_loss: 0.0909\n",
      "Epoch 46/50\n",
      "60000/60000 [==============================] - 2s 36us/step - loss: 0.0881 - val_loss: 0.0907\n",
      "Epoch 47/50\n",
      "60000/60000 [==============================] - 2s 36us/step - loss: 0.0877 - val_loss: 0.0905\n",
      "Epoch 48/50\n",
      "60000/60000 [==============================] - 2s 36us/step - loss: 0.0873 - val_loss: 0.0910\n",
      "Epoch 49/50\n",
      "60000/60000 [==============================] - 2s 36us/step - loss: 0.0872 - val_loss: 0.0894\n",
      "Epoch 50/50\n",
      "60000/60000 [==============================] - 2s 35us/step - loss: 0.0869 - val_loss: 0.0899\n"
     ]
    },
    {
     "data": {
      "text/plain": [
       "<keras.callbacks.History at 0x1b9c41fd208>"
      ]
     },
     "execution_count": 59,
     "metadata": {},
     "output_type": "execute_result"
    }
   ],
   "source": [
    "deep_autoencoder.get_model().fit(X_train, X_train,\n",
    "                epochs=50,\n",
    "                batch_size=256,\n",
    "                shuffle=True,\n",
    "                validation_data=(X_test, X_test))"
   ]
  },
  {
   "cell_type": "code",
   "execution_count": 60,
   "metadata": {},
   "outputs": [],
   "source": [
    "def plot_encode_pair(ae, n=20):\n",
    "    encoded_imgs = ae.get_encoder.predict(X_test)\n",
    "    decoded_imgs = ae.get_decoder.predict(encoded_imgs)\n",
    "    plt.figure(figsize=(50, 10))\n",
    "    for i in range(n):\n",
    "        # display original\n",
    "        ax = plt.subplot(2, n, i + 1)\n",
    "        plt.imshow(X_test[i].reshape(28, 28))\n",
    "        plt.gray()\n",
    "        ax.get_xaxis().set_visible(False)\n",
    "        ax.get_yaxis().set_visible(False)\n",
    "\n",
    "        # display reconstruction\n",
    "        ax = plt.subplot(2, n, i + 1 + n)\n",
    "        plt.imshow(decoded_imgs[i].reshape(28, 28))\n",
    "        plt.gray()\n",
    "        ax.get_xaxis().set_visible(False)\n",
    "        ax.get_yaxis().set_visible(False)\n",
    "    plt.show()"
   ]
  },
  {
   "cell_type": "code",
   "execution_count": null,
   "metadata": {},
   "outputs": [],
   "source": [
    "plot"
   ]
  }
 ],
 "metadata": {
  "kernelspec": {
   "display_name": "Python 3",
   "language": "python",
   "name": "python3"
  },
  "language_info": {
   "codemirror_mode": {
    "name": "ipython",
    "version": 3
   },
   "file_extension": ".py",
   "mimetype": "text/x-python",
   "name": "python",
   "nbconvert_exporter": "python",
   "pygments_lexer": "ipython3",
   "version": "3.6.3"
  }
 },
 "nbformat": 4,
 "nbformat_minor": 1
}
